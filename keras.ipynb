{
 "cells": [
  {
   "cell_type": "markdown",
   "metadata": {},
   "source": [
    "# Keras Tutorial"
   ]
  },
  {
   "cell_type": "markdown",
   "metadata": {},
   "source": [
    "Keras is a popular deep learning framework and it's easy to get started."
   ]
  },
  {
   "cell_type": "code",
   "execution_count": 1,
   "metadata": {},
   "outputs": [
    {
     "name": "stderr",
     "output_type": "stream",
     "text": [
      "Using TensorFlow backend.\n"
     ]
    }
   ],
   "source": [
    "import keras\n",
    "from keras.datasets import mnist\n",
    "from keras.models import Sequential\n",
    "from keras.layers import Dense, Dropout, Flatten, Conv2D, MaxPooling2D\n",
    "\n",
    "BATCH_SIZE = 128\n",
    "NUM_CLASSES = 10\n",
    "NUM_EPOCHS = 10"
   ]
  },
  {
   "cell_type": "markdown",
   "metadata": {},
   "source": [
    "First, we read the mnist data and preprocess them."
   ]
  },
  {
   "cell_type": "code",
   "execution_count": 2,
   "metadata": {
    "collapsed": true
   },
   "outputs": [],
   "source": [
    "# download and load the data (split them between train and test sets)\n",
    "(x_train, y_train), (x_test, y_test) = mnist.load_data()\n",
    "\n",
    "# expand the channel dimension\n",
    "x_train = x_train.reshape(x_train.shape[0], 28, 28, 1)\n",
    "x_test = x_test.reshape(x_test.shape[0], 28, 28, 1)\n",
    "input_shape = (28, 28, 1)\n",
    "\n",
    "# make the value of pixels from [0, 255] to [0, 1] for further process\n",
    "x_train = x_train.astype('float32') / 255.\n",
    "x_test = x_test.astype('float32') / 255.\n",
    "\n",
    "# convert class vectors to binary class matrics\n",
    "y_train = keras.utils.to_categorical(y_train, NUM_CLASSES)\n",
    "y_test = keras.utils.to_categorical(y_test, NUM_CLASSES)"
   ]
  },
  {
   "cell_type": "markdown",
   "metadata": {},
   "source": [
    "Then, we define the model, object function and optimizer that we use to classify."
   ]
  },
  {
   "cell_type": "code",
   "execution_count": 3,
   "metadata": {
    "collapsed": true
   },
   "outputs": [],
   "source": [
    "# define the model\n",
    "model = Sequential()\n",
    "model.add(Conv2D(32, (5, 5), input_shape=input_shape, activation='relu'))\n",
    "model.add(MaxPooling2D(pool_size=(2, 2)))\n",
    "model.add(Dropout(0.2))\n",
    "model.add(Flatten())\n",
    "model.add(Dense(128, activation='relu'))\n",
    "model.add(Dense(NUM_CLASSES, activation='softmax'))\n",
    "\n",
    "# define the object function, optimizer and metrics\n",
    "model.compile(loss='categorical_crossentropy', optimizer='adam', metrics=['accuracy'])"
   ]
  },
  {
   "cell_type": "markdown",
   "metadata": {},
   "source": [
    "Next, we can start to train and evaluate!"
   ]
  },
  {
   "cell_type": "code",
   "execution_count": 4,
   "metadata": {},
   "outputs": [
    {
     "name": "stdout",
     "output_type": "stream",
     "text": [
      "Train on 60000 samples, validate on 10000 samples\n",
      "Epoch 1/10\n",
      " - 56s - loss: 0.1994 - acc: 0.9428 - val_loss: 0.0642 - val_acc: 0.9793\n",
      "Epoch 2/10\n",
      " - 52s - loss: 0.0618 - acc: 0.9818 - val_loss: 0.0502 - val_acc: 0.9832\n",
      "Epoch 3/10\n",
      " - 55s - loss: 0.0450 - acc: 0.9863 - val_loss: 0.0382 - val_acc: 0.9875\n",
      "Epoch 4/10\n",
      " - 55s - loss: 0.0347 - acc: 0.9896 - val_loss: 0.0348 - val_acc: 0.9880\n",
      "Epoch 5/10\n",
      " - 52s - loss: 0.0261 - acc: 0.9918 - val_loss: 0.0364 - val_acc: 0.9879\n",
      "Epoch 6/10\n",
      " - 49s - loss: 0.0220 - acc: 0.9928 - val_loss: 0.0337 - val_acc: 0.9894\n",
      "Epoch 7/10\n",
      " - 50s - loss: 0.0184 - acc: 0.9939 - val_loss: 0.0332 - val_acc: 0.9902\n",
      "Epoch 8/10\n",
      " - 49s - loss: 0.0154 - acc: 0.9950 - val_loss: 0.0373 - val_acc: 0.9887\n",
      "Epoch 9/10\n",
      " - 50s - loss: 0.0130 - acc: 0.9957 - val_loss: 0.0349 - val_acc: 0.9901\n",
      "Epoch 10/10\n",
      " - 56s - loss: 0.0121 - acc: 0.9961 - val_loss: 0.0327 - val_acc: 0.9895\n",
      "Training loss: 0.7460, Training accuracy: 99.78%\n",
      "Testing loss: 3.2662, Testing accuracy: 98.95%\n"
     ]
    }
   ],
   "source": [
    "# train\n",
    "model.fit(x_train, y_train, validation_data=(x_test, y_test), epochs=NUM_EPOCHS, batch_size=BATCH_SIZE, verbose=2)\n",
    "\n",
    "# evaluate\n",
    "score_train = model.evaluate(x_train, y_train, verbose=0)\n",
    "print('Training loss: %.4f, Training accuracy: %.2f%%' % (score_train[0]*100,score_train[1]*100))\n",
    "score_test = model.evaluate(x_test, y_test, verbose=0)\n",
    "print('Testing loss: %.4f, Testing accuracy: %.2f%%' % (score_test[0]*100,score_test[1]*100))"
   ]
  },
  {
   "cell_type": "markdown",
   "metadata": {},
   "source": [
    "#### Q6:\n",
    "Please print the training and testing accuracy."
   ]
  }
 ],
 "metadata": {
  "kernelspec": {
   "display_name": "Python 3",
   "language": "python",
   "name": "python3"
  },
  "language_info": {
   "codemirror_mode": {
    "name": "ipython",
    "version": 3
   },
   "file_extension": ".py",
   "mimetype": "text/x-python",
   "name": "python",
   "nbconvert_exporter": "python",
   "pygments_lexer": "ipython3",
   "version": "3.5.2"
  }
 },
 "nbformat": 4,
 "nbformat_minor": 2
}
